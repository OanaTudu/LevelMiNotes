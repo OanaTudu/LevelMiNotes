{
 "cells": [
  {
   "cell_type": "code",
   "execution_count": 15,
   "metadata": {},
   "outputs": [],
   "source": [
    "from bs4 import BeautifulSoup\n",
    "import time\n",
    "from urllib.parse import urljoin\n",
    "from urllib.request import urlopen, urlretrieve, quote\n",
    "import requests\n",
    "import lxml\n",
    "import os\n",
    "import re"
   ]
  },
  {
   "cell_type": "code",
   "execution_count": null,
   "metadata": {},
   "outputs": [],
   "source": [
    "url = \"http://www.hausmusik.ch/notenregal/\"\n",
    "html = requests.get(url).content\n",
    "soup = BeautifulSoup(html)\n",
    "\n",
    "extracted_urls = []\n",
    "counter = 0\n",
    "for link_tag in soup.find_all('a'):\n",
    "            if 'notenregal' in link_tag.get('href'):\n",
    "                href = link_tag.get('href')\n",
    "                extracted_urls.append(href)\n",
    "                filename = href.rsplit('/', 1)[-1]\n",
    "                href = urljoin(url, quote(href))\n",
    "                counter = counter+1\n",
    "                try:\n",
    "                    urlretrieve(href, filename)\n",
    "                    print(f'done file {counter}')\n",
    "                except:\n",
    "                    print('failed to download')\n",
    "                \n",
    "extracted_urls = extracted_urls[1:-1]\n"
   ]
  },
  {
   "cell_type": "code",
   "execution_count": 56,
   "metadata": {},
   "outputs": [
    {
     "name": "stdout",
     "output_type": "stream",
     "text": [
      "['http://de.hausmusik.ch/', 'http://de.hausmusik.ch/notenregal/', 'http://de.hausmusik.ch/notenregal/a/', 'albert_heinrich(1604-1651)/', 'alpiger_christian(*1975)/', 'alsen_wulf-dieter/', 'altenburg_michael(1584-1640)/', 'ammann_johann-jakob(1754-1818)/', 'ammer_manfred(*1939)/', 'arcadelt_jacob(1505-1568)/']\n"
     ]
    }
   ],
   "source": [
    "def getLinks(url):\n",
    "    #get the content\n",
    "    html_page =requests.get(url).content\n",
    "    soup = BeautifulSoup(html_page)\n",
    "    #initialize list of urls to files\n",
    "    links = []\n",
    "    #loop through the sectionLinks snippet to extract the urls   soup.find_all('div', id=\"sectionLinks\")\n",
    "    links = [link.get('href') for link in soup.findAll('a') if link and link.parent.name == 'div']\n",
    "    \n",
    "    #print link[\"href\"]\n",
    "    return links\n",
    "#let's try it on a page from Hausmusik \n",
    "print( getLinks(\"http://www.hausmusik.ch/notenregal/a/\") )"
   ]
  },
  {
   "cell_type": "code",
   "execution_count": 12,
   "metadata": {},
   "outputs": [
    {
     "ename": "AttributeError",
     "evalue": "ResultSet object has no attribute 'find'. You're probably treating a list of items like a single item. Did you call find_all() when you meant to call find()?",
     "output_type": "error",
     "traceback": [
      "\u001b[0;31m---------------------------------------------------------------------------\u001b[0m",
      "\u001b[0;31mAttributeError\u001b[0m                            Traceback (most recent call last)",
      "\u001b[0;32m<ipython-input-12-e9a65ca3ae08>\u001b[0m in \u001b[0;36m<module>\u001b[0;34m\u001b[0m\n\u001b[1;32m      4\u001b[0m \u001b[0;34m\u001b[0m\u001b[0m\n\u001b[1;32m      5\u001b[0m \u001b[0msoup\u001b[0m \u001b[0;34m=\u001b[0m \u001b[0msoup\u001b[0m\u001b[0;34m.\u001b[0m\u001b[0mfindAll\u001b[0m\u001b[0;34m(\u001b[0m\u001b[0;34m\"div\"\u001b[0m\u001b[0;34m,\u001b[0m \u001b[0;34m{\u001b[0m\u001b[0;34m\"id\"\u001b[0m\u001b[0;34m:\u001b[0m\u001b[0;34m\"sectionLinks\"\u001b[0m\u001b[0;34m}\u001b[0m\u001b[0;34m)\u001b[0m\u001b[0;34m\u001b[0m\u001b[0;34m\u001b[0m\u001b[0m\n\u001b[0;32m----> 6\u001b[0;31m \u001b[0mlinks\u001b[0m \u001b[0;34m=\u001b[0m \u001b[0msoup\u001b[0m\u001b[0;34m.\u001b[0m\u001b[0mfind\u001b[0m\u001b[0;34m(\u001b[0m\u001b[0;34m\"a\"\u001b[0m\u001b[0;34m)\u001b[0m\u001b[0;34m\u001b[0m\u001b[0;34m\u001b[0m\u001b[0m\n\u001b[0m\u001b[1;32m      7\u001b[0m \u001b[0mprint\u001b[0m\u001b[0;34m(\u001b[0m\u001b[0mlinks\u001b[0m\u001b[0;34m)\u001b[0m\u001b[0;34m\u001b[0m\u001b[0;34m\u001b[0m\u001b[0m\n\u001b[1;32m      8\u001b[0m \u001b[0mextracted_urls\u001b[0m \u001b[0;34m=\u001b[0m \u001b[0;34m[\u001b[0m\u001b[0;34m]\u001b[0m\u001b[0;34m\u001b[0m\u001b[0;34m\u001b[0m\u001b[0m\n",
      "\u001b[0;32m~/anaconda3/envs/insight/lib/python3.7/site-packages/bs4/element.py\u001b[0m in \u001b[0;36m__getattr__\u001b[0;34m(self, key)\u001b[0m\n\u001b[1;32m   1882\u001b[0m     \u001b[0;32mdef\u001b[0m \u001b[0m__getattr__\u001b[0m\u001b[0;34m(\u001b[0m\u001b[0mself\u001b[0m\u001b[0;34m,\u001b[0m \u001b[0mkey\u001b[0m\u001b[0;34m)\u001b[0m\u001b[0;34m:\u001b[0m\u001b[0;34m\u001b[0m\u001b[0;34m\u001b[0m\u001b[0m\n\u001b[1;32m   1883\u001b[0m         raise AttributeError(\n\u001b[0;32m-> 1884\u001b[0;31m             \u001b[0;34m\"ResultSet object has no attribute '%s'. You're probably treating a list of items like a single item. Did you call find_all() when you meant to call find()?\"\u001b[0m \u001b[0;34m%\u001b[0m \u001b[0mkey\u001b[0m\u001b[0;34m\u001b[0m\u001b[0;34m\u001b[0m\u001b[0m\n\u001b[0m\u001b[1;32m   1885\u001b[0m         )\n",
      "\u001b[0;31mAttributeError\u001b[0m: ResultSet object has no attribute 'find'. You're probably treating a list of items like a single item. Did you call find_all() when you meant to call find()?"
     ]
    }
   ],
   "source": []
  },
  {
   "cell_type": "code",
   "execution_count": null,
   "metadata": {},
   "outputs": [],
   "source": [
    "extracted_urls = extracted_urls[1:-1]\n",
    "for nurl in extracted_urls:\n",
    "    print(nurl)\n",
    "    nhtml = requests.get(nurl).content\n",
    "    soupy = BeautifulSoup(nhtml)\n",
    "    print(soupy)\n",
    "    time.sleep(2)\n",
    "    \n",
    "\n"
   ]
  },
  {
   "cell_type": "code",
   "execution_count": null,
   "metadata": {},
   "outputs": [],
   "source": [
    "    \n",
    "new_urls = []\n",
    "counter = 0\n",
    "for link_tag in soup.find_all('a'):\n",
    "            if 'notenregal' in link_tag.get('href'):\n",
    "                href = link_tag.get('href')\n",
    "                new_urls.append(href)\n",
    "                filename = href.rsplit('/', 1)[-1]\n",
    "                href = urljoin(url, quote(href))\n",
    "                counter = counter+1 \n",
    "                \n",
    "print(new_urls)                "
   ]
  },
  {
   "cell_type": "code",
   "execution_count": null,
   "metadata": {},
   "outputs": [],
   "source": [
    "                try:\n",
    "                    urlretrieve(href, filename)\n",
    "                    print(f'done file {counter}')\n",
    "                except:\n",
    "                    print('failed to download')\n"
   ]
  },
  {
   "cell_type": "code",
   "execution_count": null,
   "metadata": {},
   "outputs": [],
   "source": []
  }
 ],
 "metadata": {
  "kernelspec": {
   "display_name": "Python 3",
   "language": "python",
   "name": "python3"
  },
  "language_info": {
   "codemirror_mode": {
    "name": "ipython",
    "version": 3
   },
   "file_extension": ".py",
   "mimetype": "text/x-python",
   "name": "python",
   "nbconvert_exporter": "python",
   "pygments_lexer": "ipython3",
   "version": "3.7.2"
  }
 },
 "nbformat": 4,
 "nbformat_minor": 2
}
